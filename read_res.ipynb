{
 "cells": [
  {
   "cell_type": "code",
   "execution_count": 1,
   "id": "41f163c1",
   "metadata": {},
   "outputs": [],
   "source": [
    "import numpy as np\n",
    "from collections import defaultdict\n",
    "import pandas as pd"
   ]
  },
  {
   "cell_type": "code",
   "execution_count": 2,
   "id": "145c81ed",
   "metadata": {},
   "outputs": [],
   "source": [
    "result_collect_mae = defaultdict(dict)\n",
    "result_collect_mse = defaultdict(dict)\n",
    "\n",
    "models = [\"contrast-informer\"]\n"
   ]
  },
  {
   "cell_type": "code",
   "execution_count": 3,
   "id": "8ef29607",
   "metadata": {},
   "outputs": [],
   "source": [
    "# sorted_model = []\n",
    "# for model in models:\n",
    "#     for predleng in [24, 48, 168, 336, 720]:\n",
    "#         sorted_model.append(model+\"_\" + str(predleng))\n",
    "        \n",
    "sorted_out_task = [\"ETTh1\", \"ETTh2\", \"ETTm1\", \"ECL\"] "
   ]
  },
  {
   "cell_type": "code",
   "execution_count": 4,
   "id": "170acc52",
   "metadata": {},
   "outputs": [],
   "source": [
    "# dfs_mae = []\n",
    "# dfs_mse = []\n",
    "\n",
    "# for run in [0, 1, 2]:\n",
    "#     for predleng in [24, 48, 168, 336, 720]:\n",
    "#         for data in [\"ETTh1\"]:#[\"ECL\", \"ETTm2\", \"Exchange\", \"traffic\", \"weather\"]:\n",
    "#             for model in models:\n",
    "#                 if data == \"ECL\":\n",
    "#                     file_name = \"custom\"\n",
    "#                 else:\n",
    "#                     file_name = data\n",
    "                    \n",
    "#                 folder_name = \"./results/{}_{}_contrastL0.5_ftM_s168_ll68_pl{}_dm512_nh8_el2_dl1_df2048_atprob_fc5_ebtimeF_dtTrue_mxTrue_Exp_{}\".format( model, data, file_name, str(predleng), str(run))\n",
    "                \n",
    "# #                 try:\n",
    "#                 metric = np.load(folder_name + \"/metrics.npy\")\n",
    "#                 mae = metric[0]\n",
    "#                 mse = metric[1]\n",
    "#                 result_collect_mae[data][model+\"_\" + str(predleng)] = mae\n",
    "#                 result_collect_mse[data][model+\"_\" + str(predleng)] = mse\n",
    "# #                 except:\n",
    "# #                 print(folder_name)\n",
    "# #                 break\n",
    "    \n",
    "#     result_mae = np.zeros((len(sorted_out_task), len(sorted_model)))\n",
    "#     result_mse = np.zeros((len(sorted_out_task), len(sorted_model)))\n",
    "\n",
    "#     for i, task in enumerate(sorted_out_task):\n",
    "#         for j, model in enumerate(sorted_model):\n",
    "#             try:\n",
    "#                 result_mae[i][j] = result_collect_mae[task][model]\n",
    "#                 result_mse[i][j] = result_collect_mse[task][model]\n",
    "#             except:\n",
    "#                 pass\n",
    "\n",
    "#     res_df_mae = pd.DataFrame(result_mae, columns=sorted_model)\n",
    "#     res_df_mse = pd.DataFrame(result_mse, columns=sorted_model)\n",
    "#     # res_df[\"best_model\"] = res_df.idxmax(axis=1)\n",
    "\n",
    "# #     res_df.loc['mean'] = res_df.mean()\n",
    "#     res_df_mae.insert(loc=0, column='task', value=sorted_out_task)\n",
    "#     res_df_mse.insert(loc=0, column='task', value=sorted_out_task)\n",
    "#     dfs_mae.append(res_df_mae)\n",
    "#     dfs_mse.append(res_df_mse)\n",
    "            "
   ]
  },
  {
   "cell_type": "code",
   "execution_count": 5,
   "id": "661b2eac",
   "metadata": {},
   "outputs": [],
   "source": [
    "# df_concat_mae = pd.concat(dfs_mae)\n",
    "# df_avg_mae = df_concat_mae.groupby(level=0).mean()\n",
    "\n",
    "# df_avg_mae.insert(loc=0, column='task', value=sorted_out_task)\n",
    "# df_avg_mae.to_csv(\"./avg_mae.csv\", index=False)"
   ]
  },
  {
   "cell_type": "code",
   "execution_count": 6,
   "id": "12f6226a",
   "metadata": {},
   "outputs": [],
   "source": [
    "# df_concat_mse = pd.concat(dfs_mse)\n",
    "# df_avg_mse = df_concat_mse.groupby(level=0).mean()\n",
    "\n",
    "# df_avg_mse.insert(loc=0, column='task', value=sorted_out_task)\n",
    "# df_avg_mse.to_csv(\"./avg_mse.csv\", index=False)"
   ]
  },
  {
   "cell_type": "code",
   "execution_count": 7,
   "id": "d9c792d0",
   "metadata": {},
   "outputs": [],
   "source": [
    "# df_avg_mae"
   ]
  },
  {
   "cell_type": "code",
   "execution_count": 8,
   "id": "22ddfa16",
   "metadata": {},
   "outputs": [],
   "source": [
    "# df_concat_mae = pd.concat(dfs_mae)\n",
    "# df_std_mae = df_concat_mae.groupby(level=0).std()\n",
    "\n",
    "# df_std_mae.insert(loc=0, column='task', value=sorted_out_task)\n",
    "# df_std_mae.to_csv(\"./std_mae.csv\", index=False)"
   ]
  },
  {
   "cell_type": "code",
   "execution_count": 9,
   "id": "922e62ae",
   "metadata": {},
   "outputs": [],
   "source": [
    "# df_concat_mse = pd.concat(dfs_mse)\n",
    "# df_std_mse = df_concat_mse.groupby(level=0).std()\n",
    "\n",
    "# df_std_mse.insert(loc=0, column='task', value=sorted_out_task)\n",
    "# df_std_mse.to_csv(\"./std_mse.csv\", index=False)"
   ]
  },
  {
   "cell_type": "code",
   "execution_count": 10,
   "id": "69751cc5",
   "metadata": {},
   "outputs": [],
   "source": [
    "# df_std_mae"
   ]
  },
  {
   "cell_type": "code",
   "execution_count": 11,
   "id": "f670ae8f",
   "metadata": {},
   "outputs": [],
   "source": [
    "# for run in [0, 1, 2]:\n",
    "#     for predleng in [24, 48, 168, 336, 720]:\n",
    "#         for data in [\"ETTh1\"]:#[\"ECL\", \"ETTm2\", \"Exchange\", \"traffic\", \"weather\"]:\n",
    "#             for model in models:\n",
    "#                 if data == \"ECL\":\n",
    "#                     file_name = \"custom\"\n",
    "#                 else:\n",
    "#                     file_name = data\n",
    "                    \n",
    "#                 folder_name = \"./results/{}_{}_contrastL0.5_ftM_s168_ll68_pl{}_dm512_nh8_el2_dl1_df2048_atprob_fc5_ebtimeF_dtTrue_mxTrue_Exp_{}\".format( model, data, file_name, str(predleng), str(run))\n",
    "                \n",
    "# #                 try:\n",
    "#                 metric = np.load(folder_name + \"/metrics.npy\")\n",
    "#                 mae = metric[0]\n",
    "#                 mse = metric[1]\n",
    "#                 result_collect_mae[data][model+\"_\" + str(predleng)] = mae\n",
    "#                 result_collect_mse[data][model+\"_\" + str(predleng)] = mse\n",
    "# #                 except:\n",
    "# #                 print(folder_name)\n",
    "# #                 break\n",
    "    \n",
    "#     result_mae = np.zeros((len(sorted_out_task), len(sorted_model)))\n",
    "#     result_mse = np.zeros((len(sorted_out_task), len(sorted_model)))\n",
    "\n",
    "#     for i, task in enumerate(sorted_out_task):\n",
    "#         for j, model in enumerate(sorted_model):\n",
    "#             try:\n",
    "#                 result_mae[i][j] = result_collect_mae[task][model]\n",
    "#                 result_mse[i][j] = result_collect_mse[task][model]\n",
    "#             except:\n",
    "#                 pass\n",
    "\n",
    "#     res_df_mae = pd.DataFrame(result_mae, columns=sorted_model)\n",
    "#     res_df_mse = pd.DataFrame(result_mse, columns=sorted_model)\n",
    "#     # res_df[\"best_model\"] = res_df.idxmax(axis=1)\n",
    "\n",
    "# #     res_df.loc['mean'] = res_df.mean()\n",
    "#     res_df_mae.insert(loc=0, column='task', value=sorted_out_task)\n",
    "#     res_df_mse.insert(loc=0, column='task', value=sorted_out_task)\n",
    "#     dfs_mae.append(res_df_mae)\n",
    "#     dfs_mse.append(res_df_mse)\n",
    "            "
   ]
  },
  {
   "cell_type": "code",
   "execution_count": 9,
   "id": "96700e96",
   "metadata": {},
   "outputs": [],
   "source": [
    "var_res = \"univar\"\n",
    "import glob\n",
    "paths = glob.glob(\"./results/*\")\n",
    "\n",
    "paths = [x for x in paths if \"csv\" not in x]\n",
    "\n",
    "result_collect_mae = defaultdict(dict)\n",
    "result_collect_mse = defaultdict(dict)\n",
    "\n",
    "for p in paths:\n",
    "    file = p.split(\"/\")[2]\n",
    "    \n",
    "    if \"ftS\" in file:\n",
    "        var_type = \"univar\"\n",
    "    else:\n",
    "        var_type = \"multivar\"\n",
    "        \n",
    "    if var_type == var_res:\n",
    "        pl = int(file.split(\"_pl\")[1].split(\"_\")[0])\n",
    "        data = file.split(\"_\")[1]\n",
    "        metric = np.load(p + \"/metrics.npy\")\n",
    "\n",
    "        mae = metric[0]\n",
    "        mse = metric[1]\n",
    "\n",
    "        if pl in result_collect_mae[data].keys():\n",
    "            result_collect_mae[data][pl].append(mae)\n",
    "            result_collect_mse[data][pl].append(mse)\n",
    "        else:\n",
    "            result_collect_mae[data][pl] = [mae]\n",
    "            result_collect_mse[data][pl] = [mse]"
   ]
  },
  {
   "cell_type": "code",
   "execution_count": 10,
   "id": "9ef1c858",
   "metadata": {},
   "outputs": [
    {
     "name": "stdout",
     "output_type": "stream",
     "text": [
      "ETTh2 168\n",
      "5\n",
      "ETTh2 720\n",
      "5\n",
      "ETTh2 24\n",
      "5\n",
      "ETTh2 48\n",
      "5\n",
      "ETTh2 336\n",
      "5\n",
      "ETTh1 24\n",
      "5\n",
      "ETTh1 48\n",
      "5\n",
      "ETTh1 336\n",
      "5\n",
      "ETTh1 720\n",
      "5\n",
      "ETTh1 168\n",
      "5\n",
      "ECL 24\n",
      "4\n"
     ]
    }
   ],
   "source": [
    "for data in result_collect_mae.keys():\n",
    "    for pl in result_collect_mae[data].keys():\n",
    "        print(data,pl)\n",
    "        print(len(result_collect_mae[data][pl]))\n",
    "#         print(result_collect_mae[data][pl])\n",
    "        \n",
    "        result_collect_mae[data][pl] = sum(result_collect_mae[data][pl]) / len(result_collect_mae[data][pl])\n",
    "        result_collect_mse[data][pl] = sum(result_collect_mse[data][pl]) / len(result_collect_mse[data][pl])"
   ]
  },
  {
   "cell_type": "code",
   "execution_count": 11,
   "id": "c245062b",
   "metadata": {},
   "outputs": [],
   "source": [
    "result_mae = []\n",
    "result_mse = []\n",
    "for data in sorted_out_task:\n",
    "    for pl in result_collect_mae[data].keys():\n",
    "    \n",
    "        result_mae.append([data+\"-\"+str(pl).zfill(3), result_collect_mae[data][pl]])\n",
    "        result_mse.append([data+\"-\"+str(pl).zfill(3), result_collect_mse[data][pl]])"
   ]
  },
  {
   "cell_type": "code",
   "execution_count": 12,
   "id": "9d5c655f",
   "metadata": {},
   "outputs": [
    {
     "data": {
      "text/plain": [
       "[['ETTh1-024', 0.31965655982494356],\n",
       " ['ETTh1-048', 0.3550376117229462],\n",
       " ['ETTh1-336', 0.32704015374183654],\n",
       " ['ETTh1-720', 0.28893459141254424],\n",
       " ['ETTh1-168', 0.3199187159538269],\n",
       " ['ETTh2-168', 0.42708700299263],\n",
       " ['ETTh2-720', 0.4294932663440704],\n",
       " ['ETTh2-024', 0.2282262146472931],\n",
       " ['ETTh2-048', 0.32476102113723754],\n",
       " ['ETTh2-336', 0.430680251121521],\n",
       " ['ECL-024', 0.35613808780908585]]"
      ]
     },
     "execution_count": 12,
     "metadata": {},
     "output_type": "execute_result"
    }
   ],
   "source": [
    "result_mae"
   ]
  },
  {
   "cell_type": "code",
   "execution_count": 13,
   "id": "1876767b",
   "metadata": {},
   "outputs": [
    {
     "data": {
      "text/plain": [
       "[['ETTh1-024', 0.1497149258852005],\n",
       " ['ETTh1-048', 0.1876134067773819],\n",
       " ['ETTh1-336', 0.16202191561460494],\n",
       " ['ETTh1-720', 0.13152285367250444],\n",
       " ['ETTh1-168', 0.1550559237599373],\n",
       " ['ETTh2-168', 0.28002201616764066],\n",
       " ['ETTh2-720', 0.28112290501594545],\n",
       " ['ETTh2-024', 0.08815043568611144],\n",
       " ['ETTh2-048', 0.16828399002552033],\n",
       " ['ETTh2-336', 0.28316334784030917],\n",
       " ['ECL-024', 0.22446010634303093]]"
      ]
     },
     "execution_count": 13,
     "metadata": {},
     "output_type": "execute_result"
    }
   ],
   "source": [
    "result_mse"
   ]
  },
  {
   "cell_type": "code",
   "execution_count": 16,
   "id": "adf0997c",
   "metadata": {},
   "outputs": [],
   "source": [
    "res_df_mae = pd.DataFrame(result_mae, columns = [\"data\", \"val\"]).sort_values(by=\"data\")\n",
    "res_df_mse = pd.DataFrame(result_mse, columns = [\"data\", \"val\"]).sort_values(by=\"data\")"
   ]
  },
  {
   "cell_type": "code",
   "execution_count": 17,
   "id": "44fa00e4",
   "metadata": {},
   "outputs": [],
   "source": [
    "res_df_mse.to_csv(\"./results/\"+var_res+\"avg_mse.csv\")\n",
    "res_df_mae.to_csv(\"./results/\"+var_res+\"avg_mae.csv\")"
   ]
  },
  {
   "cell_type": "code",
   "execution_count": 18,
   "id": "0d82c244",
   "metadata": {},
   "outputs": [
    {
     "data": {
      "text/html": [
       "<div>\n",
       "<style scoped>\n",
       "    .dataframe tbody tr th:only-of-type {\n",
       "        vertical-align: middle;\n",
       "    }\n",
       "\n",
       "    .dataframe tbody tr th {\n",
       "        vertical-align: top;\n",
       "    }\n",
       "\n",
       "    .dataframe thead th {\n",
       "        text-align: right;\n",
       "    }\n",
       "</style>\n",
       "<table border=\"1\" class=\"dataframe\">\n",
       "  <thead>\n",
       "    <tr style=\"text-align: right;\">\n",
       "      <th></th>\n",
       "      <th>data</th>\n",
       "      <th>val</th>\n",
       "    </tr>\n",
       "  </thead>\n",
       "  <tbody>\n",
       "    <tr>\n",
       "      <th>17</th>\n",
       "      <td>ECL-024</td>\n",
       "      <td>0.377614</td>\n",
       "    </tr>\n",
       "    <tr>\n",
       "      <th>18</th>\n",
       "      <td>ECL-048</td>\n",
       "      <td>0.370196</td>\n",
       "    </tr>\n",
       "    <tr>\n",
       "      <th>14</th>\n",
       "      <td>ECL-168</td>\n",
       "      <td>0.559762</td>\n",
       "    </tr>\n",
       "    <tr>\n",
       "      <th>16</th>\n",
       "      <td>ECL-336</td>\n",
       "      <td>0.643934</td>\n",
       "    </tr>\n",
       "    <tr>\n",
       "      <th>15</th>\n",
       "      <td>ECL-720</td>\n",
       "      <td>0.759867</td>\n",
       "    </tr>\n",
       "    <tr>\n",
       "      <th>3</th>\n",
       "      <td>ETTh1-024</td>\n",
       "      <td>0.606123</td>\n",
       "    </tr>\n",
       "    <tr>\n",
       "      <th>2</th>\n",
       "      <td>ETTh1-048</td>\n",
       "      <td>0.677267</td>\n",
       "    </tr>\n",
       "    <tr>\n",
       "      <th>4</th>\n",
       "      <td>ETTh1-168</td>\n",
       "      <td>0.916403</td>\n",
       "    </tr>\n",
       "    <tr>\n",
       "      <th>0</th>\n",
       "      <td>ETTh1-336</td>\n",
       "      <td>0.881026</td>\n",
       "    </tr>\n",
       "    <tr>\n",
       "      <th>1</th>\n",
       "      <td>ETTh1-720</td>\n",
       "      <td>0.962504</td>\n",
       "    </tr>\n",
       "    <tr>\n",
       "      <th>8</th>\n",
       "      <td>ETTh2-024</td>\n",
       "      <td>0.551172</td>\n",
       "    </tr>\n",
       "    <tr>\n",
       "      <th>5</th>\n",
       "      <td>ETTh2-048</td>\n",
       "      <td>1.223543</td>\n",
       "    </tr>\n",
       "    <tr>\n",
       "      <th>7</th>\n",
       "      <td>ETTh2-168</td>\n",
       "      <td>1.865592</td>\n",
       "    </tr>\n",
       "    <tr>\n",
       "      <th>6</th>\n",
       "      <td>ETTh2-336</td>\n",
       "      <td>1.605570</td>\n",
       "    </tr>\n",
       "    <tr>\n",
       "      <th>9</th>\n",
       "      <td>ETTh2-720</td>\n",
       "      <td>1.954582</td>\n",
       "    </tr>\n",
       "    <tr>\n",
       "      <th>11</th>\n",
       "      <td>ETTm1-024</td>\n",
       "      <td>0.503079</td>\n",
       "    </tr>\n",
       "    <tr>\n",
       "      <th>10</th>\n",
       "      <td>ETTm1-048</td>\n",
       "      <td>0.481504</td>\n",
       "    </tr>\n",
       "    <tr>\n",
       "      <th>13</th>\n",
       "      <td>ETTm1-096</td>\n",
       "      <td>0.613026</td>\n",
       "    </tr>\n",
       "    <tr>\n",
       "      <th>12</th>\n",
       "      <td>ETTm1-288</td>\n",
       "      <td>0.797892</td>\n",
       "    </tr>\n",
       "  </tbody>\n",
       "</table>\n",
       "</div>"
      ],
      "text/plain": [
       "         data       val\n",
       "17    ECL-024  0.377614\n",
       "18    ECL-048  0.370196\n",
       "14    ECL-168  0.559762\n",
       "16    ECL-336  0.643934\n",
       "15    ECL-720  0.759867\n",
       "3   ETTh1-024  0.606123\n",
       "2   ETTh1-048  0.677267\n",
       "4   ETTh1-168  0.916403\n",
       "0   ETTh1-336  0.881026\n",
       "1   ETTh1-720  0.962504\n",
       "8   ETTh2-024  0.551172\n",
       "5   ETTh2-048  1.223543\n",
       "7   ETTh2-168  1.865592\n",
       "6   ETTh2-336  1.605570\n",
       "9   ETTh2-720  1.954582\n",
       "11  ETTm1-024  0.503079\n",
       "10  ETTm1-048  0.481504\n",
       "13  ETTm1-096  0.613026\n",
       "12  ETTm1-288  0.797892"
      ]
     },
     "execution_count": 18,
     "metadata": {},
     "output_type": "execute_result"
    }
   ],
   "source": [
    "res_df_mae"
   ]
  },
  {
   "cell_type": "code",
   "execution_count": null,
   "id": "371d714e",
   "metadata": {},
   "outputs": [],
   "source": []
  }
 ],
 "metadata": {
  "kernelspec": {
   "display_name": "Python 3 (ipykernel)",
   "language": "python",
   "name": "python3"
  },
  "language_info": {
   "codemirror_mode": {
    "name": "ipython",
    "version": 3
   },
   "file_extension": ".py",
   "mimetype": "text/x-python",
   "name": "python",
   "nbconvert_exporter": "python",
   "pygments_lexer": "ipython3",
   "version": "3.8.10"
  }
 },
 "nbformat": 4,
 "nbformat_minor": 5
}
